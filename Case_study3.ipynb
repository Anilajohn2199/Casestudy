{
 "cells": [
  {
   "cell_type": "markdown",
   "id": "d65d1982-9f8b-4c0a-83d4-72ce989031f7",
   "metadata": {},
   "source": [
    "### Numpy Problems"
   ]
  },
  {
   "cell_type": "code",
   "execution_count": 19,
   "id": "fd675377-17e9-4a8a-8e81-5043a4908ae0",
   "metadata": {},
   "outputs": [],
   "source": [
    "import numpy as np"
   ]
  },
  {
   "cell_type": "markdown",
   "id": "550a075c-c8d4-4843-9e98-80aac8b8a3ce",
   "metadata": {},
   "source": [
    "#### 1.Creating Arrays"
   ]
  },
  {
   "cell_type": "code",
   "execution_count": 20,
   "id": "a5922c08-3c9c-41c6-a22a-068ac6df7de0",
   "metadata": {},
   "outputs": [
    {
     "name": "stdout",
     "output_type": "stream",
     "text": [
      "[34 34 23 29 49 17 30 23 16 17 28 13 40 20 21 16 22 43 39 45]\n"
     ]
    }
   ],
   "source": [
    "random_arr = np.random.randint(10,51,20)\n",
    "print(random_arr)"
   ]
  },
  {
   "cell_type": "code",
   "execution_count": 21,
   "id": "c2a007c7-bee6-4119-b91c-821ce8961103",
   "metadata": {},
   "outputs": [
    {
     "name": "stdout",
     "output_type": "stream",
     "text": [
      "27.95\n"
     ]
    }
   ],
   "source": [
    "mean_arr = np.mean(random_arr)\n",
    "print(mean_arr)"
   ]
  },
  {
   "cell_type": "code",
   "execution_count": 22,
   "id": "94dc21b4-35da-4f55-979d-dcd02920ae7f",
   "metadata": {},
   "outputs": [
    {
     "name": "stdout",
     "output_type": "stream",
     "text": [
      "10.608840652964865\n"
     ]
    }
   ],
   "source": [
    "stdev_arr = np.std(random_arr)\n",
    "print(stdev_arr)"
   ]
  },
  {
   "cell_type": "markdown",
   "id": "595c91c6-e75e-41e2-b13f-e105c8ed41bb",
   "metadata": {},
   "source": [
    "#### 2. Array Reshaping"
   ]
  },
  {
   "cell_type": "code",
   "execution_count": 23,
   "id": "f1e5115a-8c42-40da-91c6-9170abb96253",
   "metadata": {},
   "outputs": [
    {
     "name": "stdout",
     "output_type": "stream",
     "text": [
      "[[0.66130191 0.42567702 0.17869297 0.69845241 0.89045904]\n",
      " [0.99524881 0.22548988 0.51355101 0.30776361 0.82486415]\n",
      " [0.54387357 0.27254014 0.69023049 0.19063615 0.91375389]\n",
      " [0.93526822 0.8258276  0.20058679 0.06138994 0.11193172]\n",
      " [0.66800036 0.2346195  0.26473379 0.8864206  0.22400944]\n",
      " [0.97423901 0.28935504 0.9341204  0.13383562 0.50208161]]\n"
     ]
    }
   ],
   "source": [
    "random_farr = np.random.rand(6,5)\n",
    "print(random_farr)"
   ]
  },
  {
   "cell_type": "code",
   "execution_count": 24,
   "id": "b92d9584-284d-44f6-ac48-6ac127a7ae6f",
   "metadata": {},
   "outputs": [
    {
     "name": "stdout",
     "output_type": "stream",
     "text": [
      "[[0.66130191 0.42567702 0.17869297 0.69845241 0.89045904 0.99524881]\n",
      " [0.22548988 0.51355101 0.30776361 0.82486415 0.54387357 0.27254014]\n",
      " [0.69023049 0.19063615 0.91375389 0.93526822 0.8258276  0.20058679]\n",
      " [0.06138994 0.11193172 0.66800036 0.2346195  0.26473379 0.8864206 ]\n",
      " [0.22400944 0.97423901 0.28935504 0.9341204  0.13383562 0.50208161]]\n"
     ]
    }
   ],
   "source": [
    "reshaped_arr = random_farr.reshape(5,6)\n",
    "print(reshaped_arr)"
   ]
  },
  {
   "cell_type": "markdown",
   "id": "9ca609c1-c259-4f88-9930-4c9ef6290e99",
   "metadata": {},
   "source": [
    "### 3. Array indexing and Slicing"
   ]
  },
  {
   "cell_type": "code",
   "execution_count": 25,
   "id": "7969c3d1-f488-4d4a-9aa9-cbadd2fceada",
   "metadata": {},
   "outputs": [
    {
     "name": "stdout",
     "output_type": "stream",
     "text": [
      "[[ 1  2  3  4  5]\n",
      " [ 6  7  8  9 10]\n",
      " [11 12 13 14 15]\n",
      " [16 17 18 19 20]\n",
      " [21 22 23 24 25]]\n"
     ]
    }
   ],
   "source": [
    "arr1 = np.arange(1,26).reshape(5,5)\n",
    "print(arr1)"
   ]
  },
  {
   "cell_type": "code",
   "execution_count": 26,
   "id": "efbaacb1-b6c3-48de-a97a-df22bb84e245",
   "metadata": {},
   "outputs": [
    {
     "name": "stdout",
     "output_type": "stream",
     "text": [
      "[[ 6  7  8]\n",
      " [11 12 13]\n",
      " [16 17 18]]\n"
     ]
    }
   ],
   "source": [
    "# find the subarray that includes row 2 to 4 and columnn 1 to 3\n",
    "arr2 = arr1[1:4,0:3]\n",
    "print(arr2)"
   ]
  },
  {
   "cell_type": "markdown",
   "id": "3b84bbb4-2b8c-4191-912a-4ef65dfa0c28",
   "metadata": {},
   "source": [
    "#### 4. Array Operations"
   ]
  },
  {
   "cell_type": "code",
   "execution_count": 29,
   "id": "bd6b4ada-4710-44dc-aec9-723e50ebccba",
   "metadata": {},
   "outputs": [
    {
     "name": "stdout",
     "output_type": "stream",
     "text": [
      "A =  [87 43 53 27  5 60  1 45 23 61]\n",
      "B = [82  5  5 31 17 34 83 80 23 81]\n"
     ]
    }
   ],
   "source": [
    "A = np.random.randint(1,101,10)\n",
    "B = np.random.randint(1,101,10)\n",
    "print(\"A = \", A)\n",
    "print(\"B =\" ,B)\n"
   ]
  },
  {
   "cell_type": "code",
   "execution_count": 30,
   "id": "2ab103d8-e7f3-465c-b108-f4b506448f3e",
   "metadata": {},
   "outputs": [
    {
     "name": "stdout",
     "output_type": "stream",
     "text": [
      "[169  48  58  58  22  94  84 125  46 142]\n"
     ]
    }
   ],
   "source": [
    "sum_arr = A+B\n",
    "print(sum_arr)"
   ]
  },
  {
   "cell_type": "code",
   "execution_count": 32,
   "id": "aabaf34c-3f72-4249-949b-8f41cf315ab3",
   "metadata": {},
   "outputs": [
    {
     "name": "stdout",
     "output_type": "stream",
     "text": [
      "[338  96 116 116  44 188 168 250  92 284]\n"
     ]
    }
   ],
   "source": [
    "output_arr = sum_arr*2\n",
    "print(output_arr)"
   ]
  },
  {
   "cell_type": "markdown",
   "id": "10a4aca0-12fa-435c-9f74-df1f8f4b1b9d",
   "metadata": {},
   "source": [
    "#### 5. Broadcasting"
   ]
  },
  {
   "cell_type": "code",
   "execution_count": 39,
   "id": "f866e66a-99d2-4645-aee4-a7e075bd44b2",
   "metadata": {},
   "outputs": [
    {
     "name": "stdout",
     "output_type": "stream",
     "text": [
      "[[ 9  4  7 10]\n",
      " [ 3  9  3  6]\n",
      " [10  6  1  1]]\n"
     ]
    }
   ],
   "source": [
    "A = np.random.randint(1,11,(3,4))\n",
    "print(A)"
   ]
  },
  {
   "cell_type": "code",
   "execution_count": 42,
   "id": "0822621a-d791-4fa5-ab0b-56c3cf64421f",
   "metadata": {},
   "outputs": [
    {
     "name": "stdout",
     "output_type": "stream",
     "text": [
      "[1 2 3 4]\n"
     ]
    }
   ],
   "source": [
    "B = np.array([1,2,3,4])\n",
    "print(B)\n"
   ]
  },
  {
   "cell_type": "code",
   "execution_count": 43,
   "id": "cba7579c-db6f-47de-b25d-a48d71b7c4c0",
   "metadata": {},
   "outputs": [
    {
     "name": "stdout",
     "output_type": "stream",
     "text": [
      "[[10  6 10 14]\n",
      " [ 4 11  6 10]\n",
      " [11  8  4  5]]\n"
     ]
    }
   ],
   "source": [
    "f_arr = A+B\n",
    "print(f_arr)"
   ]
  },
  {
   "cell_type": "raw",
   "id": "951fe639-aef2-441e-a79c-05a18297a642",
   "metadata": {},
   "source": [
    "Since A & B are matrices of diiferent shapes, we cant add directly add the matrices, SO in mumpy using broadcasting its add by adjusting the smaller array B to match the larger array by constructing it by same shapes.\n"
   ]
  },
  {
   "cell_type": "markdown",
   "id": "d1a34092-8c5a-4815-afa7-c96bc864dd4c",
   "metadata": {},
   "source": [
    "#### 6. Finding Maximum / Minimum values"
   ]
  },
  {
   "cell_type": "code",
   "execution_count": 44,
   "id": "3802ae52-b283-4fc1-b9c9-2cb1920895fb",
   "metadata": {},
   "outputs": [
    {
     "name": "stdout",
     "output_type": "stream",
     "text": [
      "[[ 80  88  55]\n",
      " [ 91  16  53]\n",
      " [ 90 100  15]]\n"
     ]
    }
   ],
   "source": [
    "rand_matrix = np.random.randint(1,101,(3,3))\n",
    "print(rand_matrix)"
   ]
  },
  {
   "cell_type": "code",
   "execution_count": 47,
   "id": "eea1f8cb-c263-447f-b1a0-2fa98a15777e",
   "metadata": {},
   "outputs": [
    {
     "name": "stdout",
     "output_type": "stream",
     "text": [
      "[223 160 205]\n"
     ]
    }
   ],
   "source": [
    "sum_raw = np.sum(rand_matrix,axis = 1)\n",
    "print(sum_raw)"
   ]
  },
  {
   "cell_type": "code",
   "execution_count": 50,
   "id": "fe3e3b13-dd13-4113-a912-17a5dcafb5bf",
   "metadata": {},
   "outputs": [
    {
     "name": "stdout",
     "output_type": "stream",
     "text": [
      "0\n"
     ]
    }
   ],
   "source": [
    "index_sum_raw = np.argmax(sum_raw)\n",
    "print(index_sum_raw)\n",
    "# to find the index of the row with the maximum sum"
   ]
  },
  {
   "cell_type": "code",
   "execution_count": 51,
   "id": "3acb6447-4909-48fd-b4a7-2cacf53b56c7",
   "metadata": {},
   "outputs": [
    {
     "name": "stdout",
     "output_type": "stream",
     "text": [
      "88\n"
     ]
    }
   ],
   "source": [
    "max_value = np.max(rand_matrix[index_sum_raw])\n",
    "print(max_value)"
   ]
  },
  {
   "cell_type": "markdown",
   "id": "c714b047-b699-40ff-bc75-f50d256bc5f0",
   "metadata": {},
   "source": [
    "#### 7. Linear Algebra"
   ]
  },
  {
   "cell_type": "code",
   "execution_count": 71,
   "id": "28acf4e6-d55b-4160-a99d-3e31ffea3243",
   "metadata": {},
   "outputs": [
    {
     "name": "stdout",
     "output_type": "stream",
     "text": [
      " A =  \n",
      " [[21  8]\n",
      " [19  2]] \n",
      "\n",
      " B = \n",
      " [[ 7 28]\n",
      " [20 13]] \n",
      "\n"
     ]
    }
   ],
   "source": [
    "A = np.random.randint(1,30,(2,2))\n",
    "B = np.random.randint(1,30,(2,2))\n",
    "print(\" A =  \\n\",A,'\\n' )\n",
    "\n",
    "print(\" B = \\n\", B,'\\n')\n"
   ]
  },
  {
   "cell_type": "markdown",
   "id": "37b64da8-9417-4edd-a04f-16e7f410e8d9",
   "metadata": {},
   "source": [
    "matrix_mul = np.dot(A,B)\n",
    "print(matrix_mul)"
   ]
  },
  {
   "cell_type": "markdown",
   "id": "26a0fbd5-8cf2-4c30-8400-d70fb0a4558b",
   "metadata": {},
   "source": [
    "#### 8. Boolean indexing"
   ]
  },
  {
   "cell_type": "code",
   "execution_count": 73,
   "id": "473dd315-5af2-45fd-b40a-a09b2fe0443d",
   "metadata": {},
   "outputs": [
    {
     "name": "stdout",
     "output_type": "stream",
     "text": [
      "[[37 26 37  5  6 28]\n",
      " [27 13 48 32 34 46]\n",
      " [23 27 21 45  4 13]\n",
      " [43 40 41 22  1 26]\n",
      " [31  4 32 21  5  2]\n",
      " [13 46 14 11 17 48]]\n"
     ]
    }
   ],
   "source": [
    "arr = np.random.randint(1,51,(6,6))\n",
    "print(arr)"
   ]
  },
  {
   "cell_type": "code",
   "execution_count": 74,
   "id": "15636f2a-fcc9-492d-9048-b4a683fcfe3a",
   "metadata": {},
   "outputs": [
    {
     "name": "stdout",
     "output_type": "stream",
     "text": [
      "[37 26 37 28 27 48 32 34 46 27 45 43 40 41 26 31 32 46 48]\n"
     ]
    }
   ],
   "source": [
    "max_arr = arr[arr>25]\n",
    "print(max_arr)"
   ]
  },
  {
   "cell_type": "markdown",
   "id": "28811c4d-8170-44b6-b23a-a333a9137720",
   "metadata": {},
   "source": [
    "#### 9. Statistics"
   ]
  },
  {
   "cell_type": "code",
   "execution_count": 76,
   "id": "827faad5-4d5f-4963-8f00-769b843da202",
   "metadata": {},
   "outputs": [
    {
     "name": "stdout",
     "output_type": "stream",
     "text": [
      "[[0.66552737 0.9843824  0.99820252 0.96699921 0.42887003]\n",
      " [0.65892417 0.91197884 0.69992069 0.07691961 0.21101145]\n",
      " [0.36810508 0.57439001 0.93431218 0.36470056 0.33908377]\n",
      " [0.192103   0.37086349 0.20801128 0.46309256 0.24289521]\n",
      " [0.99577693 0.10534316 0.4792036  0.82775983 0.38150101]]\n"
     ]
    }
   ],
   "source": [
    "random_float = np.random.rand(5,5)\n",
    "print(random_float)"
   ]
  },
  {
   "cell_type": "code",
   "execution_count": 78,
   "id": "94c1737a-5801-4b9e-a5aa-6b92710b560b",
   "metadata": {},
   "outputs": [
    {
     "name": "stdout",
     "output_type": "stream",
     "text": [
      "[0.96699921 0.65892417 0.36810508 0.24289521 0.4792036 ]\n"
     ]
    }
   ],
   "source": [
    "raw_median = np.median(random_float, axis = 1)\n",
    "print(raw_median)"
   ]
  },
  {
   "cell_type": "code",
   "execution_count": 79,
   "id": "0f1883b9-e900-46e9-ab4f-b5c943d233bb",
   "metadata": {},
   "outputs": [
    {
     "name": "stdout",
     "output_type": "stream",
     "text": [
      "[0.65892417 0.57439001 0.69992069 0.46309256 0.33908377]\n"
     ]
    }
   ],
   "source": [
    "column_median = np.median(random_float, axis =0)\n",
    "print(column_median)"
   ]
  },
  {
   "cell_type": "code",
   "execution_count": 80,
   "id": "3ff977a9-b2b1-41b6-b3f3-032b6bc3d044",
   "metadata": {},
   "outputs": [
    {
     "name": "stdout",
     "output_type": "stream",
     "text": [
      "[0.05132066 0.09935454 0.05089164 0.01097587 0.10133559]\n"
     ]
    }
   ],
   "source": [
    "raw_variance = np.var(random_float,axis = 1)\n",
    "print(raw_variance)"
   ]
  },
  {
   "cell_type": "code",
   "execution_count": 81,
   "id": "b32a0e0c-55ad-443e-b357-78576ce26510",
   "metadata": {},
   "outputs": [
    {
     "name": "stdout",
     "output_type": "stream",
     "text": [
      "[0.07634028 0.10847254 0.08562514 0.10324442 0.00676413]\n"
     ]
    }
   ],
   "source": [
    "column_variance = np.var(random_float,axis = 0)\n",
    "print(column_variance)"
   ]
  },
  {
   "cell_type": "markdown",
   "id": "edc84812-0f64-44bb-9a57-e342ded9ec43",
   "metadata": {},
   "source": [
    "#### 10. Element- wise operations"
   ]
  },
  {
   "cell_type": "code",
   "execution_count": 82,
   "id": "4cb5db1a-05d7-4191-b1ae-8bc849ad7b9a",
   "metadata": {},
   "outputs": [
    {
     "name": "stdout",
     "output_type": "stream",
     "text": [
      "[[10 10  6]\n",
      " [ 1  8  1]\n",
      " [ 2  4  6]]\n"
     ]
    }
   ],
   "source": [
    "arr = np.random.randint(1,11,(3,3))\n",
    "print(arr)"
   ]
  },
  {
   "cell_type": "code",
   "execution_count": 84,
   "id": "86842ddb-2221-43b8-975b-629e87be7225",
   "metadata": {},
   "outputs": [
    {
     "name": "stdout",
     "output_type": "stream",
     "text": [
      "[[ 8  8  4]\n",
      " [-1  6 -1]\n",
      " [ 0  2  4]]\n"
     ]
    }
   ],
   "source": [
    "sub_arr = arr -2\n",
    "print(sub_arr)"
   ]
  },
  {
   "cell_type": "code",
   "execution_count": 85,
   "id": "074e6c7e-5a60-4262-a43d-05173bec66e3",
   "metadata": {},
   "outputs": [
    {
     "name": "stdout",
     "output_type": "stream",
     "text": [
      "[[100 100  36]\n",
      " [  1  64   1]\n",
      " [  4  16  36]]\n"
     ]
    }
   ],
   "source": [
    "sq_arr = arr ** 2\n",
    "print(sq_arr)"
   ]
  },
  {
   "cell_type": "code",
   "execution_count": 86,
   "id": "c06efdcb-bfb1-4b8f-a32a-3216bfb66b8b",
   "metadata": {},
   "outputs": [
    {
     "name": "stdout",
     "output_type": "stream",
     "text": [
      "[[0.1        0.1        0.16666667]\n",
      " [1.         0.125      1.        ]\n",
      " [0.5        0.25       0.16666667]]\n"
     ]
    }
   ],
   "source": [
    "reci_arr = 1/arr\n",
    "print(reci_arr)"
   ]
  },
  {
   "cell_type": "code",
   "execution_count": 88,
   "id": "5e111cb1-bbad-4ccc-a605-dec6daf696b3",
   "metadata": {},
   "outputs": [
    {
     "name": "stdout",
     "output_type": "stream",
     "text": [
      "[[0.1        0.1        0.16666667]\n",
      " [1.         0.125      1.        ]\n",
      " [0.5        0.25       0.16666667]]\n"
     ]
    }
   ],
   "source": [
    "# using  np.reciprocal\n",
    "r_arr = np.reciprocal(arr.astype(float))\n",
    "print(r_arr)\n"
   ]
  },
  {
   "cell_type": "markdown",
   "id": "c30ceab7-321b-464d-98e2-148b6461817b",
   "metadata": {},
   "source": [
    "### Pandas"
   ]
  },
  {
   "cell_type": "markdown",
   "id": "8528f787-0daa-4200-bfcf-8f22922dc93a",
   "metadata": {},
   "source": [
    "#### 1.Basic Exploration"
   ]
  },
  {
   "cell_type": "code",
   "execution_count": 106,
   "id": "f71ca667-7559-4ee3-83bc-757b32c90c25",
   "metadata": {},
   "outputs": [],
   "source": [
    "# Loading the dataset \n",
    "df = pd.read_csv(\"auto-mpg.csv\")"
   ]
  },
  {
   "cell_type": "code",
   "execution_count": 109,
   "id": "ce5f6076-5402-4a7e-870e-99e2722f7aba",
   "metadata": {},
   "outputs": [
    {
     "data": {
      "text/html": [
       "<div>\n",
       "<style scoped>\n",
       "    .dataframe tbody tr th:only-of-type {\n",
       "        vertical-align: middle;\n",
       "    }\n",
       "\n",
       "    .dataframe tbody tr th {\n",
       "        vertical-align: top;\n",
       "    }\n",
       "\n",
       "    .dataframe thead th {\n",
       "        text-align: right;\n",
       "    }\n",
       "</style>\n",
       "<table border=\"1\" class=\"dataframe\">\n",
       "  <thead>\n",
       "    <tr style=\"text-align: right;\">\n",
       "      <th></th>\n",
       "      <th>mpg</th>\n",
       "      <th>cylinders</th>\n",
       "      <th>displacement</th>\n",
       "      <th>horsepower</th>\n",
       "      <th>weight</th>\n",
       "      <th>acceleration</th>\n",
       "      <th>model year</th>\n",
       "      <th>origin</th>\n",
       "      <th>car name</th>\n",
       "    </tr>\n",
       "  </thead>\n",
       "  <tbody>\n",
       "    <tr>\n",
       "      <th>0</th>\n",
       "      <td>18.0</td>\n",
       "      <td>8</td>\n",
       "      <td>307.0</td>\n",
       "      <td>130</td>\n",
       "      <td>3504</td>\n",
       "      <td>12.0</td>\n",
       "      <td>70</td>\n",
       "      <td>1</td>\n",
       "      <td>chevrolet chevelle malibu</td>\n",
       "    </tr>\n",
       "    <tr>\n",
       "      <th>1</th>\n",
       "      <td>15.0</td>\n",
       "      <td>8</td>\n",
       "      <td>350.0</td>\n",
       "      <td>165</td>\n",
       "      <td>3693</td>\n",
       "      <td>11.5</td>\n",
       "      <td>70</td>\n",
       "      <td>1</td>\n",
       "      <td>buick skylark 320</td>\n",
       "    </tr>\n",
       "    <tr>\n",
       "      <th>2</th>\n",
       "      <td>18.0</td>\n",
       "      <td>8</td>\n",
       "      <td>318.0</td>\n",
       "      <td>150</td>\n",
       "      <td>3436</td>\n",
       "      <td>11.0</td>\n",
       "      <td>70</td>\n",
       "      <td>1</td>\n",
       "      <td>plymouth satellite</td>\n",
       "    </tr>\n",
       "    <tr>\n",
       "      <th>3</th>\n",
       "      <td>16.0</td>\n",
       "      <td>8</td>\n",
       "      <td>304.0</td>\n",
       "      <td>150</td>\n",
       "      <td>3433</td>\n",
       "      <td>12.0</td>\n",
       "      <td>70</td>\n",
       "      <td>1</td>\n",
       "      <td>amc rebel sst</td>\n",
       "    </tr>\n",
       "    <tr>\n",
       "      <th>4</th>\n",
       "      <td>17.0</td>\n",
       "      <td>8</td>\n",
       "      <td>302.0</td>\n",
       "      <td>140</td>\n",
       "      <td>3449</td>\n",
       "      <td>10.5</td>\n",
       "      <td>70</td>\n",
       "      <td>1</td>\n",
       "      <td>ford torino</td>\n",
       "    </tr>\n",
       "    <tr>\n",
       "      <th>5</th>\n",
       "      <td>15.0</td>\n",
       "      <td>8</td>\n",
       "      <td>429.0</td>\n",
       "      <td>198</td>\n",
       "      <td>4341</td>\n",
       "      <td>10.0</td>\n",
       "      <td>70</td>\n",
       "      <td>1</td>\n",
       "      <td>ford galaxie 500</td>\n",
       "    </tr>\n",
       "    <tr>\n",
       "      <th>6</th>\n",
       "      <td>14.0</td>\n",
       "      <td>8</td>\n",
       "      <td>454.0</td>\n",
       "      <td>220</td>\n",
       "      <td>4354</td>\n",
       "      <td>9.0</td>\n",
       "      <td>70</td>\n",
       "      <td>1</td>\n",
       "      <td>chevrolet impala</td>\n",
       "    </tr>\n",
       "    <tr>\n",
       "      <th>7</th>\n",
       "      <td>14.0</td>\n",
       "      <td>8</td>\n",
       "      <td>440.0</td>\n",
       "      <td>215</td>\n",
       "      <td>4312</td>\n",
       "      <td>8.5</td>\n",
       "      <td>70</td>\n",
       "      <td>1</td>\n",
       "      <td>plymouth fury iii</td>\n",
       "    </tr>\n",
       "    <tr>\n",
       "      <th>8</th>\n",
       "      <td>14.0</td>\n",
       "      <td>8</td>\n",
       "      <td>455.0</td>\n",
       "      <td>225</td>\n",
       "      <td>4425</td>\n",
       "      <td>10.0</td>\n",
       "      <td>70</td>\n",
       "      <td>1</td>\n",
       "      <td>pontiac catalina</td>\n",
       "    </tr>\n",
       "    <tr>\n",
       "      <th>9</th>\n",
       "      <td>15.0</td>\n",
       "      <td>8</td>\n",
       "      <td>390.0</td>\n",
       "      <td>190</td>\n",
       "      <td>3850</td>\n",
       "      <td>8.5</td>\n",
       "      <td>70</td>\n",
       "      <td>1</td>\n",
       "      <td>amc ambassador dpl</td>\n",
       "    </tr>\n",
       "  </tbody>\n",
       "</table>\n",
       "</div>"
      ],
      "text/plain": [
       "    mpg  cylinders  displacement horsepower  weight  acceleration  model year  \\\n",
       "0  18.0          8         307.0        130    3504          12.0          70   \n",
       "1  15.0          8         350.0        165    3693          11.5          70   \n",
       "2  18.0          8         318.0        150    3436          11.0          70   \n",
       "3  16.0          8         304.0        150    3433          12.0          70   \n",
       "4  17.0          8         302.0        140    3449          10.5          70   \n",
       "5  15.0          8         429.0        198    4341          10.0          70   \n",
       "6  14.0          8         454.0        220    4354           9.0          70   \n",
       "7  14.0          8         440.0        215    4312           8.5          70   \n",
       "8  14.0          8         455.0        225    4425          10.0          70   \n",
       "9  15.0          8         390.0        190    3850           8.5          70   \n",
       "\n",
       "   origin                   car name  \n",
       "0       1  chevrolet chevelle malibu  \n",
       "1       1          buick skylark 320  \n",
       "2       1         plymouth satellite  \n",
       "3       1              amc rebel sst  \n",
       "4       1                ford torino  \n",
       "5       1           ford galaxie 500  \n",
       "6       1           chevrolet impala  \n",
       "7       1          plymouth fury iii  \n",
       "8       1           pontiac catalina  \n",
       "9       1         amc ambassador dpl  "
      ]
     },
     "execution_count": 109,
     "metadata": {},
     "output_type": "execute_result"
    }
   ],
   "source": [
    "# first 10 rows\n",
    "df.head(10)"
   ]
  },
  {
   "cell_type": "code",
   "execution_count": 110,
   "id": "2d637db5-fe69-40b9-96ad-287b02f12cec",
   "metadata": {},
   "outputs": [
    {
     "data": {
      "text/plain": [
       "(398, 9)"
      ]
     },
     "execution_count": 110,
     "metadata": {},
     "output_type": "execute_result"
    }
   ],
   "source": [
    "# total number of rows and columns \n",
    "df.shape"
   ]
  },
  {
   "cell_type": "code",
   "execution_count": 112,
   "id": "e677a0a5-4650-4d25-a0a5-071fe91914b5",
   "metadata": {},
   "outputs": [
    {
     "data": {
      "text/html": [
       "<div>\n",
       "<style scoped>\n",
       "    .dataframe tbody tr th:only-of-type {\n",
       "        vertical-align: middle;\n",
       "    }\n",
       "\n",
       "    .dataframe tbody tr th {\n",
       "        vertical-align: top;\n",
       "    }\n",
       "\n",
       "    .dataframe thead th {\n",
       "        text-align: right;\n",
       "    }\n",
       "</style>\n",
       "<table border=\"1\" class=\"dataframe\">\n",
       "  <thead>\n",
       "    <tr style=\"text-align: right;\">\n",
       "      <th></th>\n",
       "      <th>mpg</th>\n",
       "      <th>cylinders</th>\n",
       "      <th>displacement</th>\n",
       "      <th>weight</th>\n",
       "      <th>acceleration</th>\n",
       "      <th>model year</th>\n",
       "      <th>origin</th>\n",
       "    </tr>\n",
       "  </thead>\n",
       "  <tbody>\n",
       "    <tr>\n",
       "      <th>count</th>\n",
       "      <td>398.000000</td>\n",
       "      <td>398.000000</td>\n",
       "      <td>398.000000</td>\n",
       "      <td>398.000000</td>\n",
       "      <td>398.000000</td>\n",
       "      <td>398.000000</td>\n",
       "      <td>398.000000</td>\n",
       "    </tr>\n",
       "    <tr>\n",
       "      <th>mean</th>\n",
       "      <td>23.514573</td>\n",
       "      <td>5.454774</td>\n",
       "      <td>193.425879</td>\n",
       "      <td>2970.424623</td>\n",
       "      <td>15.568090</td>\n",
       "      <td>76.010050</td>\n",
       "      <td>1.572864</td>\n",
       "    </tr>\n",
       "    <tr>\n",
       "      <th>std</th>\n",
       "      <td>7.815984</td>\n",
       "      <td>1.701004</td>\n",
       "      <td>104.269838</td>\n",
       "      <td>846.841774</td>\n",
       "      <td>2.757689</td>\n",
       "      <td>3.697627</td>\n",
       "      <td>0.802055</td>\n",
       "    </tr>\n",
       "    <tr>\n",
       "      <th>min</th>\n",
       "      <td>9.000000</td>\n",
       "      <td>3.000000</td>\n",
       "      <td>68.000000</td>\n",
       "      <td>1613.000000</td>\n",
       "      <td>8.000000</td>\n",
       "      <td>70.000000</td>\n",
       "      <td>1.000000</td>\n",
       "    </tr>\n",
       "    <tr>\n",
       "      <th>25%</th>\n",
       "      <td>17.500000</td>\n",
       "      <td>4.000000</td>\n",
       "      <td>104.250000</td>\n",
       "      <td>2223.750000</td>\n",
       "      <td>13.825000</td>\n",
       "      <td>73.000000</td>\n",
       "      <td>1.000000</td>\n",
       "    </tr>\n",
       "    <tr>\n",
       "      <th>50%</th>\n",
       "      <td>23.000000</td>\n",
       "      <td>4.000000</td>\n",
       "      <td>148.500000</td>\n",
       "      <td>2803.500000</td>\n",
       "      <td>15.500000</td>\n",
       "      <td>76.000000</td>\n",
       "      <td>1.000000</td>\n",
       "    </tr>\n",
       "    <tr>\n",
       "      <th>75%</th>\n",
       "      <td>29.000000</td>\n",
       "      <td>8.000000</td>\n",
       "      <td>262.000000</td>\n",
       "      <td>3608.000000</td>\n",
       "      <td>17.175000</td>\n",
       "      <td>79.000000</td>\n",
       "      <td>2.000000</td>\n",
       "    </tr>\n",
       "    <tr>\n",
       "      <th>max</th>\n",
       "      <td>46.600000</td>\n",
       "      <td>8.000000</td>\n",
       "      <td>455.000000</td>\n",
       "      <td>5140.000000</td>\n",
       "      <td>24.800000</td>\n",
       "      <td>82.000000</td>\n",
       "      <td>3.000000</td>\n",
       "    </tr>\n",
       "  </tbody>\n",
       "</table>\n",
       "</div>"
      ],
      "text/plain": [
       "              mpg   cylinders  displacement       weight  acceleration  \\\n",
       "count  398.000000  398.000000    398.000000   398.000000    398.000000   \n",
       "mean    23.514573    5.454774    193.425879  2970.424623     15.568090   \n",
       "std      7.815984    1.701004    104.269838   846.841774      2.757689   \n",
       "min      9.000000    3.000000     68.000000  1613.000000      8.000000   \n",
       "25%     17.500000    4.000000    104.250000  2223.750000     13.825000   \n",
       "50%     23.000000    4.000000    148.500000  2803.500000     15.500000   \n",
       "75%     29.000000    8.000000    262.000000  3608.000000     17.175000   \n",
       "max     46.600000    8.000000    455.000000  5140.000000     24.800000   \n",
       "\n",
       "       model year      origin  \n",
       "count  398.000000  398.000000  \n",
       "mean    76.010050    1.572864  \n",
       "std      3.697627    0.802055  \n",
       "min     70.000000    1.000000  \n",
       "25%     73.000000    1.000000  \n",
       "50%     76.000000    1.000000  \n",
       "75%     79.000000    2.000000  \n",
       "max     82.000000    3.000000  "
      ]
     },
     "execution_count": 112,
     "metadata": {},
     "output_type": "execute_result"
    }
   ],
   "source": [
    "#summary statistics for numerical columns\n",
    "df.describe()"
   ]
  },
  {
   "cell_type": "markdown",
   "id": "91fa1923-f372-45a7-8573-e7d0a1c8c6aa",
   "metadata": {},
   "source": [
    "#### 2. Filtering and indexing"
   ]
  },
  {
   "cell_type": "code",
   "execution_count": 115,
   "id": "56b70c6a-15c7-4dbf-84dc-66026e1c03b1",
   "metadata": {},
   "outputs": [
    {
     "name": "stdout",
     "output_type": "stream",
     "text": [
      "              car name  weight   mpg\n",
      "167     toyota corolla    2171  29.0\n",
      "168         ford pinto    2639  23.0\n",
      "169        amc gremlin    2914  20.0\n",
      "170      pontiac astro    2592  23.0\n",
      "171      toyota corona    2702  24.0\n",
      "172  volkswagen dasher    2223  25.0\n",
      "173         datsun 710    2545  24.0\n",
      "174         ford pinto    2984  18.0\n",
      "175  volkswagen rabbit    1937  29.0\n",
      "177         audi 100ls    2694  23.0\n",
      "178        peugeot 504    2957  23.0\n",
      "179        volvo 244dl    2945  22.0\n",
      "180          saab 99le    2671  25.0\n",
      "181   honda civic cvcc    1795  33.0\n"
     ]
    }
   ],
   "source": [
    "car_filtered = df[(df[\"model year\"]== 75) & (df[\"weight\"]<3000)]\n",
    "result = car_filtered[[\"car name\", \"weight\", \"mpg\"]]\n",
    "print(result)"
   ]
  },
  {
   "cell_type": "markdown",
   "id": "3e7e4fee-71d6-4b3e-8748-ac6ddd05537f",
   "metadata": {},
   "source": [
    "#### 3. Handling missing data"
   ]
  },
  {
   "cell_type": "code",
   "execution_count": 117,
   "id": "63d7ece8-caed-4c04-89a0-3ce423f6d29d",
   "metadata": {},
   "outputs": [
    {
     "data": {
      "text/html": [
       "<div>\n",
       "<style scoped>\n",
       "    .dataframe tbody tr th:only-of-type {\n",
       "        vertical-align: middle;\n",
       "    }\n",
       "\n",
       "    .dataframe tbody tr th {\n",
       "        vertical-align: top;\n",
       "    }\n",
       "\n",
       "    .dataframe thead th {\n",
       "        text-align: right;\n",
       "    }\n",
       "</style>\n",
       "<table border=\"1\" class=\"dataframe\">\n",
       "  <thead>\n",
       "    <tr style=\"text-align: right;\">\n",
       "      <th></th>\n",
       "      <th>mpg</th>\n",
       "      <th>cylinders</th>\n",
       "      <th>displacement</th>\n",
       "      <th>horsepower</th>\n",
       "      <th>weight</th>\n",
       "      <th>acceleration</th>\n",
       "      <th>model year</th>\n",
       "      <th>origin</th>\n",
       "      <th>car name</th>\n",
       "    </tr>\n",
       "  </thead>\n",
       "  <tbody>\n",
       "    <tr>\n",
       "      <th>0</th>\n",
       "      <td>False</td>\n",
       "      <td>False</td>\n",
       "      <td>False</td>\n",
       "      <td>False</td>\n",
       "      <td>False</td>\n",
       "      <td>False</td>\n",
       "      <td>False</td>\n",
       "      <td>False</td>\n",
       "      <td>False</td>\n",
       "    </tr>\n",
       "    <tr>\n",
       "      <th>1</th>\n",
       "      <td>False</td>\n",
       "      <td>False</td>\n",
       "      <td>False</td>\n",
       "      <td>False</td>\n",
       "      <td>False</td>\n",
       "      <td>False</td>\n",
       "      <td>False</td>\n",
       "      <td>False</td>\n",
       "      <td>False</td>\n",
       "    </tr>\n",
       "    <tr>\n",
       "      <th>2</th>\n",
       "      <td>False</td>\n",
       "      <td>False</td>\n",
       "      <td>False</td>\n",
       "      <td>False</td>\n",
       "      <td>False</td>\n",
       "      <td>False</td>\n",
       "      <td>False</td>\n",
       "      <td>False</td>\n",
       "      <td>False</td>\n",
       "    </tr>\n",
       "    <tr>\n",
       "      <th>3</th>\n",
       "      <td>False</td>\n",
       "      <td>False</td>\n",
       "      <td>False</td>\n",
       "      <td>False</td>\n",
       "      <td>False</td>\n",
       "      <td>False</td>\n",
       "      <td>False</td>\n",
       "      <td>False</td>\n",
       "      <td>False</td>\n",
       "    </tr>\n",
       "    <tr>\n",
       "      <th>4</th>\n",
       "      <td>False</td>\n",
       "      <td>False</td>\n",
       "      <td>False</td>\n",
       "      <td>False</td>\n",
       "      <td>False</td>\n",
       "      <td>False</td>\n",
       "      <td>False</td>\n",
       "      <td>False</td>\n",
       "      <td>False</td>\n",
       "    </tr>\n",
       "    <tr>\n",
       "      <th>...</th>\n",
       "      <td>...</td>\n",
       "      <td>...</td>\n",
       "      <td>...</td>\n",
       "      <td>...</td>\n",
       "      <td>...</td>\n",
       "      <td>...</td>\n",
       "      <td>...</td>\n",
       "      <td>...</td>\n",
       "      <td>...</td>\n",
       "    </tr>\n",
       "    <tr>\n",
       "      <th>393</th>\n",
       "      <td>False</td>\n",
       "      <td>False</td>\n",
       "      <td>False</td>\n",
       "      <td>False</td>\n",
       "      <td>False</td>\n",
       "      <td>False</td>\n",
       "      <td>False</td>\n",
       "      <td>False</td>\n",
       "      <td>False</td>\n",
       "    </tr>\n",
       "    <tr>\n",
       "      <th>394</th>\n",
       "      <td>False</td>\n",
       "      <td>False</td>\n",
       "      <td>False</td>\n",
       "      <td>False</td>\n",
       "      <td>False</td>\n",
       "      <td>False</td>\n",
       "      <td>False</td>\n",
       "      <td>False</td>\n",
       "      <td>False</td>\n",
       "    </tr>\n",
       "    <tr>\n",
       "      <th>395</th>\n",
       "      <td>False</td>\n",
       "      <td>False</td>\n",
       "      <td>False</td>\n",
       "      <td>False</td>\n",
       "      <td>False</td>\n",
       "      <td>False</td>\n",
       "      <td>False</td>\n",
       "      <td>False</td>\n",
       "      <td>False</td>\n",
       "    </tr>\n",
       "    <tr>\n",
       "      <th>396</th>\n",
       "      <td>False</td>\n",
       "      <td>False</td>\n",
       "      <td>False</td>\n",
       "      <td>False</td>\n",
       "      <td>False</td>\n",
       "      <td>False</td>\n",
       "      <td>False</td>\n",
       "      <td>False</td>\n",
       "      <td>False</td>\n",
       "    </tr>\n",
       "    <tr>\n",
       "      <th>397</th>\n",
       "      <td>False</td>\n",
       "      <td>False</td>\n",
       "      <td>False</td>\n",
       "      <td>False</td>\n",
       "      <td>False</td>\n",
       "      <td>False</td>\n",
       "      <td>False</td>\n",
       "      <td>False</td>\n",
       "      <td>False</td>\n",
       "    </tr>\n",
       "  </tbody>\n",
       "</table>\n",
       "<p>398 rows × 9 columns</p>\n",
       "</div>"
      ],
      "text/plain": [
       "       mpg  cylinders  displacement  horsepower  weight  acceleration  \\\n",
       "0    False      False         False       False   False         False   \n",
       "1    False      False         False       False   False         False   \n",
       "2    False      False         False       False   False         False   \n",
       "3    False      False         False       False   False         False   \n",
       "4    False      False         False       False   False         False   \n",
       "..     ...        ...           ...         ...     ...           ...   \n",
       "393  False      False         False       False   False         False   \n",
       "394  False      False         False       False   False         False   \n",
       "395  False      False         False       False   False         False   \n",
       "396  False      False         False       False   False         False   \n",
       "397  False      False         False       False   False         False   \n",
       "\n",
       "     model year  origin  car name  \n",
       "0         False   False     False  \n",
       "1         False   False     False  \n",
       "2         False   False     False  \n",
       "3         False   False     False  \n",
       "4         False   False     False  \n",
       "..          ...     ...       ...  \n",
       "393       False   False     False  \n",
       "394       False   False     False  \n",
       "395       False   False     False  \n",
       "396       False   False     False  \n",
       "397       False   False     False  \n",
       "\n",
       "[398 rows x 9 columns]"
      ]
     },
     "execution_count": 117,
     "metadata": {},
     "output_type": "execute_result"
    }
   ],
   "source": [
    "df.isnull()"
   ]
  },
  {
   "cell_type": "code",
   "execution_count": 119,
   "id": "ac5eb966-4494-4f95-9dc4-93a157616746",
   "metadata": {},
   "outputs": [
    {
     "data": {
      "text/plain": [
       "mpg             0\n",
       "cylinders       0\n",
       "displacement    0\n",
       "horsepower      0\n",
       "weight          0\n",
       "acceleration    0\n",
       "model year      0\n",
       "origin          0\n",
       "car name        0\n",
       "dtype: int64"
      ]
     },
     "execution_count": 119,
     "metadata": {},
     "output_type": "execute_result"
    }
   ],
   "source": [
    "df.isnull().sum()"
   ]
  },
  {
   "cell_type": "code",
   "execution_count": 120,
   "id": "8ee363da-8bf5-4ad2-b7f2-347a2d8d5164",
   "metadata": {},
   "outputs": [
    {
     "name": "stdout",
     "output_type": "stream",
     "text": [
      "<class 'pandas.core.frame.DataFrame'>\n",
      "RangeIndex: 398 entries, 0 to 397\n",
      "Data columns (total 9 columns):\n",
      " #   Column        Non-Null Count  Dtype  \n",
      "---  ------        --------------  -----  \n",
      " 0   mpg           398 non-null    float64\n",
      " 1   cylinders     398 non-null    int64  \n",
      " 2   displacement  398 non-null    float64\n",
      " 3   horsepower    398 non-null    object \n",
      " 4   weight        398 non-null    int64  \n",
      " 5   acceleration  398 non-null    float64\n",
      " 6   model year    398 non-null    int64  \n",
      " 7   origin        398 non-null    int64  \n",
      " 8   car name      398 non-null    object \n",
      "dtypes: float64(3), int64(4), object(2)\n",
      "memory usage: 28.1+ KB\n"
     ]
    }
   ],
   "source": [
    "df.info()"
   ]
  },
  {
   "cell_type": "code",
   "execution_count": 121,
   "id": "0a0f6417-4387-4a02-a83a-980ae2d4d37f",
   "metadata": {},
   "outputs": [
    {
     "data": {
      "text/plain": [
       "array(['130', '165', '150', '140', '198', '220', '215', '225', '190',\n",
       "       '170', '160', '95', '97', '85', '88', '46', '87', '90', '113',\n",
       "       '200', '210', '193', '?', '100', '105', '175', '153', '180', '110',\n",
       "       '72', '86', '70', '76', '65', '69', '60', '80', '54', '208', '155',\n",
       "       '112', '92', '145', '137', '158', '167', '94', '107', '230', '49',\n",
       "       '75', '91', '122', '67', '83', '78', '52', '61', '93', '148',\n",
       "       '129', '96', '71', '98', '115', '53', '81', '79', '120', '152',\n",
       "       '102', '108', '68', '58', '149', '89', '63', '48', '66', '139',\n",
       "       '103', '125', '133', '138', '135', '142', '77', '62', '132', '84',\n",
       "       '64', '74', '116', '82'], dtype=object)"
      ]
     },
     "execution_count": 121,
     "metadata": {},
     "output_type": "execute_result"
    }
   ],
   "source": [
    "df.horsepower.unique()"
   ]
  },
  {
   "cell_type": "code",
   "execution_count": 125,
   "id": "e3df0afc-5998-4356-bb72-a555e5a431d5",
   "metadata": {},
   "outputs": [],
   "source": [
    "median_hp = df[(df['horsepower']!='?')]['horsepower'].astype(int).median()\n",
    "median_hp1 = df['horsepower'].values\n",
    "median_hp1[median_hp1=='?'] = median_hp"
   ]
  },
  {
   "cell_type": "code",
   "execution_count": 126,
   "id": "b0f9f052-b309-4d37-b2b0-d15d14557b26",
   "metadata": {},
   "outputs": [],
   "source": [
    "df['horsepower'] = median_hp1.astype(int)"
   ]
  },
  {
   "cell_type": "code",
   "execution_count": 127,
   "id": "4b864a23-3b31-44ba-bd18-e28e6435aafb",
   "metadata": {},
   "outputs": [
    {
     "data": {
      "text/plain": [
       "0      130\n",
       "1      165\n",
       "2      150\n",
       "3      150\n",
       "4      140\n",
       "      ... \n",
       "393     86\n",
       "394     52\n",
       "395     84\n",
       "396     79\n",
       "397     82\n",
       "Name: horsepower, Length: 398, dtype: int64"
      ]
     },
     "execution_count": 127,
     "metadata": {},
     "output_type": "execute_result"
    }
   ],
   "source": [
    "df['horsepower']"
   ]
  },
  {
   "cell_type": "code",
   "execution_count": 128,
   "id": "46b5636b-5055-4927-b110-050fbe33e3ae",
   "metadata": {},
   "outputs": [
    {
     "data": {
      "text/html": [
       "<div>\n",
       "<style scoped>\n",
       "    .dataframe tbody tr th:only-of-type {\n",
       "        vertical-align: middle;\n",
       "    }\n",
       "\n",
       "    .dataframe tbody tr th {\n",
       "        vertical-align: top;\n",
       "    }\n",
       "\n",
       "    .dataframe thead th {\n",
       "        text-align: right;\n",
       "    }\n",
       "</style>\n",
       "<table border=\"1\" class=\"dataframe\">\n",
       "  <thead>\n",
       "    <tr style=\"text-align: right;\">\n",
       "      <th></th>\n",
       "      <th>mpg</th>\n",
       "      <th>cylinders</th>\n",
       "      <th>displacement</th>\n",
       "      <th>horsepower</th>\n",
       "      <th>weight</th>\n",
       "      <th>acceleration</th>\n",
       "      <th>model year</th>\n",
       "      <th>origin</th>\n",
       "      <th>car name</th>\n",
       "    </tr>\n",
       "  </thead>\n",
       "  <tbody>\n",
       "    <tr>\n",
       "      <th>0</th>\n",
       "      <td>18.0</td>\n",
       "      <td>8</td>\n",
       "      <td>307.0</td>\n",
       "      <td>130</td>\n",
       "      <td>3504</td>\n",
       "      <td>12.0</td>\n",
       "      <td>70</td>\n",
       "      <td>1</td>\n",
       "      <td>chevrolet chevelle malibu</td>\n",
       "    </tr>\n",
       "    <tr>\n",
       "      <th>1</th>\n",
       "      <td>15.0</td>\n",
       "      <td>8</td>\n",
       "      <td>350.0</td>\n",
       "      <td>165</td>\n",
       "      <td>3693</td>\n",
       "      <td>11.5</td>\n",
       "      <td>70</td>\n",
       "      <td>1</td>\n",
       "      <td>buick skylark 320</td>\n",
       "    </tr>\n",
       "    <tr>\n",
       "      <th>2</th>\n",
       "      <td>18.0</td>\n",
       "      <td>8</td>\n",
       "      <td>318.0</td>\n",
       "      <td>150</td>\n",
       "      <td>3436</td>\n",
       "      <td>11.0</td>\n",
       "      <td>70</td>\n",
       "      <td>1</td>\n",
       "      <td>plymouth satellite</td>\n",
       "    </tr>\n",
       "    <tr>\n",
       "      <th>3</th>\n",
       "      <td>16.0</td>\n",
       "      <td>8</td>\n",
       "      <td>304.0</td>\n",
       "      <td>150</td>\n",
       "      <td>3433</td>\n",
       "      <td>12.0</td>\n",
       "      <td>70</td>\n",
       "      <td>1</td>\n",
       "      <td>amc rebel sst</td>\n",
       "    </tr>\n",
       "    <tr>\n",
       "      <th>4</th>\n",
       "      <td>17.0</td>\n",
       "      <td>8</td>\n",
       "      <td>302.0</td>\n",
       "      <td>140</td>\n",
       "      <td>3449</td>\n",
       "      <td>10.5</td>\n",
       "      <td>70</td>\n",
       "      <td>1</td>\n",
       "      <td>ford torino</td>\n",
       "    </tr>\n",
       "    <tr>\n",
       "      <th>...</th>\n",
       "      <td>...</td>\n",
       "      <td>...</td>\n",
       "      <td>...</td>\n",
       "      <td>...</td>\n",
       "      <td>...</td>\n",
       "      <td>...</td>\n",
       "      <td>...</td>\n",
       "      <td>...</td>\n",
       "      <td>...</td>\n",
       "    </tr>\n",
       "    <tr>\n",
       "      <th>393</th>\n",
       "      <td>27.0</td>\n",
       "      <td>4</td>\n",
       "      <td>140.0</td>\n",
       "      <td>86</td>\n",
       "      <td>2790</td>\n",
       "      <td>15.6</td>\n",
       "      <td>82</td>\n",
       "      <td>1</td>\n",
       "      <td>ford mustang gl</td>\n",
       "    </tr>\n",
       "    <tr>\n",
       "      <th>394</th>\n",
       "      <td>44.0</td>\n",
       "      <td>4</td>\n",
       "      <td>97.0</td>\n",
       "      <td>52</td>\n",
       "      <td>2130</td>\n",
       "      <td>24.6</td>\n",
       "      <td>82</td>\n",
       "      <td>2</td>\n",
       "      <td>vw pickup</td>\n",
       "    </tr>\n",
       "    <tr>\n",
       "      <th>395</th>\n",
       "      <td>32.0</td>\n",
       "      <td>4</td>\n",
       "      <td>135.0</td>\n",
       "      <td>84</td>\n",
       "      <td>2295</td>\n",
       "      <td>11.6</td>\n",
       "      <td>82</td>\n",
       "      <td>1</td>\n",
       "      <td>dodge rampage</td>\n",
       "    </tr>\n",
       "    <tr>\n",
       "      <th>396</th>\n",
       "      <td>28.0</td>\n",
       "      <td>4</td>\n",
       "      <td>120.0</td>\n",
       "      <td>79</td>\n",
       "      <td>2625</td>\n",
       "      <td>18.6</td>\n",
       "      <td>82</td>\n",
       "      <td>1</td>\n",
       "      <td>ford ranger</td>\n",
       "    </tr>\n",
       "    <tr>\n",
       "      <th>397</th>\n",
       "      <td>31.0</td>\n",
       "      <td>4</td>\n",
       "      <td>119.0</td>\n",
       "      <td>82</td>\n",
       "      <td>2720</td>\n",
       "      <td>19.4</td>\n",
       "      <td>82</td>\n",
       "      <td>1</td>\n",
       "      <td>chevy s-10</td>\n",
       "    </tr>\n",
       "  </tbody>\n",
       "</table>\n",
       "<p>398 rows × 9 columns</p>\n",
       "</div>"
      ],
      "text/plain": [
       "      mpg  cylinders  displacement  horsepower  weight  acceleration  \\\n",
       "0    18.0          8         307.0         130    3504          12.0   \n",
       "1    15.0          8         350.0         165    3693          11.5   \n",
       "2    18.0          8         318.0         150    3436          11.0   \n",
       "3    16.0          8         304.0         150    3433          12.0   \n",
       "4    17.0          8         302.0         140    3449          10.5   \n",
       "..    ...        ...           ...         ...     ...           ...   \n",
       "393  27.0          4         140.0          86    2790          15.6   \n",
       "394  44.0          4          97.0          52    2130          24.6   \n",
       "395  32.0          4         135.0          84    2295          11.6   \n",
       "396  28.0          4         120.0          79    2625          18.6   \n",
       "397  31.0          4         119.0          82    2720          19.4   \n",
       "\n",
       "     model year  origin                   car name  \n",
       "0            70       1  chevrolet chevelle malibu  \n",
       "1            70       1          buick skylark 320  \n",
       "2            70       1         plymouth satellite  \n",
       "3            70       1              amc rebel sst  \n",
       "4            70       1                ford torino  \n",
       "..          ...     ...                        ...  \n",
       "393          82       1            ford mustang gl  \n",
       "394          82       2                  vw pickup  \n",
       "395          82       1              dodge rampage  \n",
       "396          82       1                ford ranger  \n",
       "397          82       1                 chevy s-10  \n",
       "\n",
       "[398 rows x 9 columns]"
      ]
     },
     "execution_count": 128,
     "metadata": {},
     "output_type": "execute_result"
    }
   ],
   "source": [
    "df"
   ]
  },
  {
   "cell_type": "code",
   "execution_count": 129,
   "id": "1757edb4-97e1-4942-88c8-69355cfe3c09",
   "metadata": {},
   "outputs": [
    {
     "name": "stdout",
     "output_type": "stream",
     "text": [
      "<class 'pandas.core.frame.DataFrame'>\n",
      "RangeIndex: 398 entries, 0 to 397\n",
      "Data columns (total 9 columns):\n",
      " #   Column        Non-Null Count  Dtype  \n",
      "---  ------        --------------  -----  \n",
      " 0   mpg           398 non-null    float64\n",
      " 1   cylinders     398 non-null    int64  \n",
      " 2   displacement  398 non-null    float64\n",
      " 3   horsepower    398 non-null    int64  \n",
      " 4   weight        398 non-null    int64  \n",
      " 5   acceleration  398 non-null    float64\n",
      " 6   model year    398 non-null    int64  \n",
      " 7   origin        398 non-null    int64  \n",
      " 8   car name      398 non-null    object \n",
      "dtypes: float64(3), int64(5), object(1)\n",
      "memory usage: 28.1+ KB\n"
     ]
    }
   ],
   "source": [
    "df.info()"
   ]
  },
  {
   "cell_type": "code",
   "execution_count": 130,
   "id": "4293db34-8e0f-4bb0-b2ed-9523f7f564b1",
   "metadata": {},
   "outputs": [
    {
     "data": {
      "text/plain": [
       "array([130, 165, 150, 140, 198, 220, 215, 225, 190, 170, 160,  95,  97,\n",
       "        85,  88,  46,  87,  90, 113, 200, 210, 193,  93, 100, 105, 175,\n",
       "       153, 180, 110,  72,  86,  70,  76,  65,  69,  60,  80,  54, 208,\n",
       "       155, 112,  92, 145, 137, 158, 167,  94, 107, 230,  49,  75,  91,\n",
       "       122,  67,  83,  78,  52,  61, 148, 129,  96,  71,  98, 115,  53,\n",
       "        81,  79, 120, 152, 102, 108,  68,  58, 149,  89,  63,  48,  66,\n",
       "       139, 103, 125, 133, 138, 135, 142,  77,  62, 132,  84,  64,  74,\n",
       "       116,  82])"
      ]
     },
     "execution_count": 130,
     "metadata": {},
     "output_type": "execute_result"
    }
   ],
   "source": [
    "df.horsepower.unique()"
   ]
  },
  {
   "cell_type": "markdown",
   "id": "ea7d650f-f761-4802-8ad2-1835062b9da1",
   "metadata": {},
   "source": [
    "#### 4. Data Transformation"
   ]
  },
  {
   "cell_type": "code",
   "execution_count": 132,
   "id": "32dbbab0-d5ba-496b-8a32-adeeb326a9fc",
   "metadata": {},
   "outputs": [
    {
     "data": {
      "text/html": [
       "<div>\n",
       "<style scoped>\n",
       "    .dataframe tbody tr th:only-of-type {\n",
       "        vertical-align: middle;\n",
       "    }\n",
       "\n",
       "    .dataframe tbody tr th {\n",
       "        vertical-align: top;\n",
       "    }\n",
       "\n",
       "    .dataframe thead th {\n",
       "        text-align: right;\n",
       "    }\n",
       "</style>\n",
       "<table border=\"1\" class=\"dataframe\">\n",
       "  <thead>\n",
       "    <tr style=\"text-align: right;\">\n",
       "      <th></th>\n",
       "      <th>mpg</th>\n",
       "      <th>cylinders</th>\n",
       "      <th>displacement</th>\n",
       "      <th>horsepower</th>\n",
       "      <th>weight</th>\n",
       "      <th>acceleration</th>\n",
       "      <th>model year</th>\n",
       "      <th>origin</th>\n",
       "      <th>car name</th>\n",
       "      <th>power_to_weight_ratio</th>\n",
       "    </tr>\n",
       "  </thead>\n",
       "  <tbody>\n",
       "    <tr>\n",
       "      <th>0</th>\n",
       "      <td>18.0</td>\n",
       "      <td>8</td>\n",
       "      <td>307.0</td>\n",
       "      <td>130</td>\n",
       "      <td>3504</td>\n",
       "      <td>12.0</td>\n",
       "      <td>70</td>\n",
       "      <td>1</td>\n",
       "      <td>chevrolet chevelle malibu</td>\n",
       "      <td>0.037100</td>\n",
       "    </tr>\n",
       "    <tr>\n",
       "      <th>1</th>\n",
       "      <td>15.0</td>\n",
       "      <td>8</td>\n",
       "      <td>350.0</td>\n",
       "      <td>165</td>\n",
       "      <td>3693</td>\n",
       "      <td>11.5</td>\n",
       "      <td>70</td>\n",
       "      <td>1</td>\n",
       "      <td>buick skylark 320</td>\n",
       "      <td>0.044679</td>\n",
       "    </tr>\n",
       "    <tr>\n",
       "      <th>2</th>\n",
       "      <td>18.0</td>\n",
       "      <td>8</td>\n",
       "      <td>318.0</td>\n",
       "      <td>150</td>\n",
       "      <td>3436</td>\n",
       "      <td>11.0</td>\n",
       "      <td>70</td>\n",
       "      <td>1</td>\n",
       "      <td>plymouth satellite</td>\n",
       "      <td>0.043655</td>\n",
       "    </tr>\n",
       "    <tr>\n",
       "      <th>3</th>\n",
       "      <td>16.0</td>\n",
       "      <td>8</td>\n",
       "      <td>304.0</td>\n",
       "      <td>150</td>\n",
       "      <td>3433</td>\n",
       "      <td>12.0</td>\n",
       "      <td>70</td>\n",
       "      <td>1</td>\n",
       "      <td>amc rebel sst</td>\n",
       "      <td>0.043694</td>\n",
       "    </tr>\n",
       "    <tr>\n",
       "      <th>4</th>\n",
       "      <td>17.0</td>\n",
       "      <td>8</td>\n",
       "      <td>302.0</td>\n",
       "      <td>140</td>\n",
       "      <td>3449</td>\n",
       "      <td>10.5</td>\n",
       "      <td>70</td>\n",
       "      <td>1</td>\n",
       "      <td>ford torino</td>\n",
       "      <td>0.040591</td>\n",
       "    </tr>\n",
       "  </tbody>\n",
       "</table>\n",
       "</div>"
      ],
      "text/plain": [
       "    mpg  cylinders  displacement  horsepower  weight  acceleration  \\\n",
       "0  18.0          8         307.0         130    3504          12.0   \n",
       "1  15.0          8         350.0         165    3693          11.5   \n",
       "2  18.0          8         318.0         150    3436          11.0   \n",
       "3  16.0          8         304.0         150    3433          12.0   \n",
       "4  17.0          8         302.0         140    3449          10.5   \n",
       "\n",
       "   model year  origin                   car name  power_to_weight_ratio  \n",
       "0          70       1  chevrolet chevelle malibu               0.037100  \n",
       "1          70       1          buick skylark 320               0.044679  \n",
       "2          70       1         plymouth satellite               0.043655  \n",
       "3          70       1              amc rebel sst               0.043694  \n",
       "4          70       1                ford torino               0.040591  "
      ]
     },
     "execution_count": 132,
     "metadata": {},
     "output_type": "execute_result"
    }
   ],
   "source": [
    "df['power_to_weight_ratio'] = df['horsepower']/df['weight']\n",
    "df.head()"
   ]
  },
  {
   "cell_type": "markdown",
   "id": "708feeb8-72e6-4ab4-9af5-426680d9e19b",
   "metadata": {},
   "source": [
    "#### 5. Group by"
   ]
  },
  {
   "cell_type": "code",
   "execution_count": 137,
   "id": "70f4ed35-00ef-4d96-a1ce-0d19cd0f25e5",
   "metadata": {},
   "outputs": [
    {
     "data": {
      "text/plain": [
       "origin\n",
       "1    20.083534\n",
       "2    27.891429\n",
       "3    30.450633\n",
       "Name: mpg, dtype: float64"
      ]
     },
     "execution_count": 137,
     "metadata": {},
     "output_type": "execute_result"
    }
   ],
   "source": [
    "df.groupby('origin')['mpg'].mean()"
   ]
  },
  {
   "cell_type": "markdown",
   "id": "5a4b8c19-fd9d-45a1-b34f-a23e82032a23",
   "metadata": {},
   "source": [
    "#### 6. Sorting"
   ]
  },
  {
   "cell_type": "code",
   "execution_count": 151,
   "id": "40523f2a-e66c-440a-be0d-989fd686c16e",
   "metadata": {},
   "outputs": [
    {
     "name": "stdout",
     "output_type": "stream",
     "text": [
      "Top 10 cars with highest mpg \n",
      "                             car name   mpg\n",
      "322                        mazda glc  46.6\n",
      "329              honda civic 1500 gl  44.6\n",
      "325             vw rabbit c (diesel)  44.3\n",
      "394                        vw pickup  44.0\n",
      "326               vw dasher (diesel)  43.4\n",
      "244  volkswagen rabbit custom diesel  43.1\n",
      "309                        vw rabbit  41.5\n",
      "330             renault lecar deluxe  40.9\n",
      "324                       datsun 210  40.8\n",
      "247                   datsun b210 gx  39.4\n"
     ]
    }
   ],
   "source": [
    "# sorting by mpg in ascending order\n",
    "df_sorted = df.sort_values(by='mpg', ascending = False)\n",
    "top_10_cars =df_sorted.head(10)\n",
    "print(\"Top 10 cars with highest mpg \\n\" , top_10_cars[['car name','mpg']])"
   ]
  },
  {
   "cell_type": "markdown",
   "id": "48570212-9494-4a29-9fba-30fdf03db4f6",
   "metadata": {},
   "source": [
    "#### 7. Apply Function"
   ]
  },
  {
   "cell_type": "code",
   "execution_count": 160,
   "id": "8ca63d48-3906-4566-8d5e-631444eacdba",
   "metadata": {},
   "outputs": [
    {
     "name": "stdout",
     "output_type": "stream",
     "text": [
      "                      car name   mpg  acceleration  weight  performance_score\n",
      "0    chevrolet chevelle malibu  18.0          12.0    3504           0.061644\n",
      "1            buick skylark 320  15.0          11.5    3693           0.046710\n",
      "2           plymouth satellite  18.0          11.0    3436           0.057625\n",
      "3                amc rebel sst  16.0          12.0    3433           0.055928\n",
      "4                  ford torino  17.0          10.5    3449           0.051754\n",
      "..                         ...   ...           ...     ...                ...\n",
      "393            ford mustang gl  27.0          15.6    2790           0.150968\n",
      "394                  vw pickup  44.0          24.6    2130           0.508169\n",
      "395              dodge rampage  32.0          11.6    2295           0.161743\n",
      "396                ford ranger  28.0          18.6    2625           0.198400\n",
      "397                 chevy s-10  31.0          19.4    2720           0.221103\n",
      "\n",
      "[398 rows x 5 columns]\n"
     ]
    }
   ],
   "source": [
    "def performance_score(row):\n",
    "    return row['mpg'] * row ['acceleration']/ row['weight']\n",
    "\n",
    "df['performance_score'] = df.apply(performance_score, axis =1)\n",
    "\n",
    "print(df[['car name', 'mpg', 'acceleration', 'weight', 'performance_score']])"
   ]
  },
  {
   "cell_type": "markdown",
   "id": "dd1bf38a-bebb-4c36-a06b-17c177323597",
   "metadata": {},
   "source": [
    "#### 8. Visualization Preparation"
   ]
  },
  {
   "cell_type": "code",
   "execution_count": 165,
   "id": "1057faa5-fcfa-4ab6-b304-17d561d89f38",
   "metadata": {},
   "outputs": [
    {
     "name": "stdout",
     "output_type": "stream",
     "text": [
      "Summary Dataframe                   mpg       weight  horsepower\n",
      "model year                                    \n",
      "70          17.689655  3372.793103  147.827586\n",
      "71          21.250000  2995.428571  106.535714\n",
      "72          18.714286  3237.714286  120.178571\n",
      "73          17.100000  3419.025000  130.475000\n",
      "74          22.703704  2877.925926   94.185185\n",
      "75          20.266667  3176.800000  101.066667\n",
      "76          21.573529  3078.735294  101.117647\n",
      "77          23.375000  2997.357143  105.071429\n",
      "78          24.061111  2861.805556   99.694444\n",
      "79          25.093103  3055.344828  101.206897\n",
      "80          33.696552  2436.655172   78.551724\n",
      "81          30.334483  2522.931034   81.448276\n",
      "82          31.709677  2453.548387   81.838710\n"
     ]
    }
   ],
   "source": [
    "df_summary = df.groupby('model year')[['mpg', 'weight', 'horsepower']].mean()\n",
    "print(\"Summary Dataframe\",df_summary)"
   ]
  },
  {
   "cell_type": "markdown",
   "id": "898f8570-4054-44be-98e7-0cbf7d0b0c67",
   "metadata": {},
   "source": [
    "#### 9. Exporting Data"
   ]
  },
  {
   "cell_type": "code",
   "execution_count": 168,
   "id": "b6357a7f-2c52-4ecc-9d71-9b0bcbe595f2",
   "metadata": {},
   "outputs": [
    {
     "name": "stdout",
     "output_type": "stream",
     "text": [
      "New revised data stored as  'high_mpg_cars.csv'.\n"
     ]
    }
   ],
   "source": [
    "high_mpg_cars = df[df['mpg']>30][['mpg','cylinders','horsepower','weight']]\n",
    "high_mpg_cars.to_csv( 'high_mpg_cars.csv',index = False)\n",
    "print(\"New revised data stored as  'high_mpg_cars.csv'.\")"
   ]
  },
  {
   "cell_type": "markdown",
   "id": "61744cae-03b1-4d42-b0b4-8fe7aca02283",
   "metadata": {},
   "source": [
    "#### 10. Finding Anomalies"
   ]
  },
  {
   "cell_type": "code",
   "execution_count": 171,
   "id": "0c9a450f-2373-48a2-928c-a60b2f02e0f0",
   "metadata": {},
   "outputs": [
    {
     "name": "stdout",
     "output_type": "stream",
     "text": [
      "Dataframe of cars classified as outliers\n"
     ]
    },
    {
     "data": {
      "text/html": [
       "<div>\n",
       "<style scoped>\n",
       "    .dataframe tbody tr th:only-of-type {\n",
       "        vertical-align: middle;\n",
       "    }\n",
       "\n",
       "    .dataframe tbody tr th {\n",
       "        vertical-align: top;\n",
       "    }\n",
       "\n",
       "    .dataframe thead th {\n",
       "        text-align: right;\n",
       "    }\n",
       "</style>\n",
       "<table border=\"1\" class=\"dataframe\">\n",
       "  <thead>\n",
       "    <tr style=\"text-align: right;\">\n",
       "      <th></th>\n",
       "      <th>car name</th>\n",
       "      <th>mpg</th>\n",
       "      <th>model year</th>\n",
       "    </tr>\n",
       "  </thead>\n",
       "  <tbody>\n",
       "    <tr>\n",
       "      <th>322</th>\n",
       "      <td>mazda glc</td>\n",
       "      <td>46.6</td>\n",
       "      <td>80</td>\n",
       "    </tr>\n",
       "  </tbody>\n",
       "</table>\n",
       "</div>"
      ],
      "text/plain": [
       "      car name   mpg  model year\n",
       "322  mazda glc  46.6          80"
      ]
     },
     "execution_count": 171,
     "metadata": {},
     "output_type": "execute_result"
    }
   ],
   "source": [
    "Q1 = df['mpg'].quantile(0.25)\n",
    "Q3 = df['mpg'].quantile(0.75)\n",
    "\n",
    "IQR = Q3- Q1\n",
    "\n",
    "lower_bound = Q1-1.5 *IQR\n",
    "upper_bound = Q3 +1.5*IQR\n",
    "\n",
    "outliers =  df[(df['mpg']<lower_bound) | (df['mpg']>upper_bound)]\n",
    "df_outliers = outliers[['car name','mpg', 'model year']]\n",
    "\n",
    "print (\"Dataframe of cars classified as outliers\")\n",
    "df_outliers"
   ]
  },
  {
   "cell_type": "code",
   "execution_count": null,
   "id": "f34fa591-b8eb-44d4-abc4-29e90cfd665e",
   "metadata": {},
   "outputs": [],
   "source": []
  }
 ],
 "metadata": {
  "kernelspec": {
   "display_name": "Python 3 (ipykernel)",
   "language": "python",
   "name": "python3"
  },
  "language_info": {
   "codemirror_mode": {
    "name": "ipython",
    "version": 3
   },
   "file_extension": ".py",
   "mimetype": "text/x-python",
   "name": "python",
   "nbconvert_exporter": "python",
   "pygments_lexer": "ipython3",
   "version": "3.13.2"
  }
 },
 "nbformat": 4,
 "nbformat_minor": 5
}
